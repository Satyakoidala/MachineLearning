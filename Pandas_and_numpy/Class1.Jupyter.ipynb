{
 "cells": [
  {
   "cell_type": "code",
   "execution_count": 30,
   "metadata": {},
   "outputs": [
    {
     "name": "stdout",
     "output_type": "stream",
     "text": [
      "Hello World\n"
     ]
    }
   ],
   "source": [
    "print(\"Hello World\")"
   ]
  },
  {
   "cell_type": "code",
   "execution_count": 31,
   "metadata": {},
   "outputs": [
    {
     "name": "stdout",
     "output_type": "stream",
     "text": [
      "100 <class 'str'>\n",
      "100 <class 'int'>\n"
     ]
    }
   ],
   "source": [
    "# String example\n",
    "s = '123456789'\n",
    "dir(s)\n",
    "\n",
    "# Check if string is numeric, if so, convert it to integer\n",
    "s = '100'\n",
    "print(s, type(s))\n",
    "if s.isnumeric() :\n",
    "    s = int(s)\n",
    "else :\n",
    "    print(\"not numeric\")\n",
    "print(s, type(s))"
   ]
  },
  {
   "cell_type": "code",
   "execution_count": 33,
   "metadata": {},
   "outputs": [],
   "source": [
    "# Different forms of quotes \n",
    "s=\"I like python\"\n",
    "s='I like python'\n",
    "s = \"\"\"I like python\n",
    "it is very versatile\"\"\"\n"
   ]
  },
  {
   "cell_type": "code",
   "execution_count": 34,
   "metadata": {},
   "outputs": [
    {
     "name": "stdout",
     "output_type": "stream",
     "text": [
      "True False <class 'bool'>\n"
     ]
    }
   ],
   "source": [
    "# Boolean, note: no quotes and first char upper case\n",
    "b = True\n",
    "c = False\n",
    "print(b, c, type(b))\n",
    "if not b :\n",
    "    pass"
   ]
  },
  {
   "cell_type": "code",
   "execution_count": 35,
   "metadata": {},
   "outputs": [
    {
     "name": "stdout",
     "output_type": "stream",
     "text": [
      "100\n"
     ]
    }
   ],
   "source": [
    "# If with equality operator\n",
    "x = 100\n",
    "if x == 100 :\n",
    "    print(\"100\")\n",
    "else :\n",
    "    print(\"not 100\")"
   ]
  },
  {
   "cell_type": "code",
   "execution_count": 36,
   "metadata": {},
   "outputs": [
    {
     "name": "stdout",
     "output_type": "stream",
     "text": [
      "1\n",
      "9\n",
      "01234 56789\n",
      "02468\n",
      "56789\n",
      "0123456\n",
      "9876543210\n",
      "97531\n"
     ]
    }
   ],
   "source": [
    "# String Operations, slicing\n",
    "s = '0123456789'\n",
    "print(s[1])\n",
    "print(s[-1])\n",
    "print(s[:5],s[5:])\n",
    "print(s[::2])\n",
    "print(s[-5:])\n",
    "print(s[:-3])\n",
    "print(s[::-1])\n",
    "print(s[::-2])"
   ]
  },
  {
   "cell_type": "code",
   "execution_count": 37,
   "metadata": {},
   "outputs": [
    {
     "name": "stdout",
     "output_type": "stream",
     "text": [
      "1\n",
      "9\n",
      "[0, 1, 2, 3, 4] [5, 6, 7, 8, 9]\n",
      "[0, 2, 4, 6, 8]\n",
      "[5, 6, 7, 8, 9]\n",
      "[0, 1, 2, 3, 4, 5, 6]\n",
      "[9, 8, 7, 6, 5, 4, 3, 2, 1, 0]\n",
      "[9, 7, 5, 3, 1]\n"
     ]
    }
   ],
   "source": [
    "# List access is similar to string, slicing behaves same.\n",
    "s = [0,1,2,3,4,5,6,7,8,9]\n",
    "print(s[1])\n",
    "print(s[-1])\n",
    "print(s[:5],s[5:])\n",
    "print(s[::2])\n",
    "print(s[-5:])\n",
    "print(s[:-3])\n",
    "print(s[::-1])\n",
    "print(s[::-2])"
   ]
  },
  {
   "cell_type": "code",
   "execution_count": 38,
   "metadata": {},
   "outputs": [
    {
     "name": "stdout",
     "output_type": "stream",
     "text": [
      "['string', 100, True, 200.0, [1, 2, 3]]\n",
      "string 100 True 200.0 [1, 2, 3] 2\n"
     ]
    },
    {
     "data": {
      "text/plain": [
       "['__add__',\n",
       " '__class__',\n",
       " '__contains__',\n",
       " '__delattr__',\n",
       " '__delitem__',\n",
       " '__dir__',\n",
       " '__doc__',\n",
       " '__eq__',\n",
       " '__format__',\n",
       " '__ge__',\n",
       " '__getattribute__',\n",
       " '__getitem__',\n",
       " '__gt__',\n",
       " '__hash__',\n",
       " '__iadd__',\n",
       " '__imul__',\n",
       " '__init__',\n",
       " '__init_subclass__',\n",
       " '__iter__',\n",
       " '__le__',\n",
       " '__len__',\n",
       " '__lt__',\n",
       " '__mul__',\n",
       " '__ne__',\n",
       " '__new__',\n",
       " '__reduce__',\n",
       " '__reduce_ex__',\n",
       " '__repr__',\n",
       " '__reversed__',\n",
       " '__rmul__',\n",
       " '__setattr__',\n",
       " '__setitem__',\n",
       " '__sizeof__',\n",
       " '__str__',\n",
       " '__subclasshook__',\n",
       " 'append',\n",
       " 'clear',\n",
       " 'copy',\n",
       " 'count',\n",
       " 'extend',\n",
       " 'index',\n",
       " 'insert',\n",
       " 'pop',\n",
       " 'remove',\n",
       " 'reverse',\n",
       " 'sort']"
      ]
     },
     "execution_count": 38,
     "metadata": {},
     "output_type": "execute_result"
    }
   ],
   "source": [
    "# List with different types of elements\n",
    "l = ['string', 100, True, 200.0, [1,2,3]]\n",
    "print(l)\n",
    "print(l[0], l[1], l[2], l[3], l[4], l[4][1])\n",
    "dir(l)"
   ]
  },
  {
   "cell_type": "code",
   "execution_count": 39,
   "metadata": {},
   "outputs": [
    {
     "name": "stdout",
     "output_type": "stream",
     "text": [
      "(1, 2, 3, 4, 5)\n",
      "(1, 2, 3, 4, 5)\n"
     ]
    }
   ],
   "source": [
    "# Tuple is a read only copy of list\n",
    "t = (1,2,3,4,5)\n",
    "print(t)\n",
    "# another way to create tuple from a list\n",
    "t = tuple([1,2,3,4,5])\n",
    "print(t)"
   ]
  },
  {
   "cell_type": "code",
   "execution_count": 40,
   "metadata": {},
   "outputs": [
    {
     "name": "stdout",
     "output_type": "stream",
     "text": [
      "{1, 2, 3, 4, 5}\n"
     ]
    }
   ],
   "source": [
    "l = [1,2,3,4,5,1,2,3,1,2]\n",
    "# Create set from list l, Sets use curly braces\n",
    "s = set(l)\n",
    "print(s)\n"
   ]
  },
  {
   "cell_type": "code",
   "execution_count": 41,
   "metadata": {},
   "outputs": [
    {
     "ename": "TypeError",
     "evalue": "'set' object is not subscriptable",
     "output_type": "error",
     "traceback": [
      "\u001b[1;31m---------------------------------------------------------------------------\u001b[0m",
      "\u001b[1;31mTypeError\u001b[0m                                 Traceback (most recent call last)",
      "\u001b[1;32m<ipython-input-41-46a32bb70867>\u001b[0m in \u001b[0;36m<module>\u001b[1;34m\u001b[0m\n\u001b[0;32m      1\u001b[0m \u001b[1;31m# Try to access set with index, it gives error\u001b[0m\u001b[1;33m\u001b[0m\u001b[1;33m\u001b[0m\u001b[1;33m\u001b[0m\u001b[0m\n\u001b[1;32m----> 2\u001b[1;33m \u001b[0ms\u001b[0m\u001b[1;33m[\u001b[0m\u001b[1;36m0\u001b[0m\u001b[1;33m]\u001b[0m\u001b[1;33m\u001b[0m\u001b[1;33m\u001b[0m\u001b[0m\n\u001b[0m",
      "\u001b[1;31mTypeError\u001b[0m: 'set' object is not subscriptable"
     ]
    }
   ],
   "source": [
    "# Try to access set with index, it gives error\n",
    "s[0]\n"
   ]
  },
  {
   "cell_type": "code",
   "execution_count": 42,
   "metadata": {},
   "outputs": [
    {
     "name": "stdout",
     "output_type": "stream",
     "text": [
      "{1, 2, 3, 4, 5}\n",
      "{2, 3, 4, 5}\n"
     ]
    }
   ],
   "source": [
    "# list functions on set s\n",
    "dir(s)\n",
    "# Add delete elements from s\n",
    "s.add(5)\n",
    "print(s)\n",
    "s.pop()\n",
    "print(s)\n"
   ]
  },
  {
   "cell_type": "code",
   "execution_count": 43,
   "metadata": {},
   "outputs": [
    {
     "name": "stdout",
     "output_type": "stream",
     "text": [
      "[2, 3, 4, 5]\n",
      "(2, 3, 4, 5)\n",
      "{2, 3, 4, 5}\n",
      "{2, 3, 4, 5}\n",
      "{4, 5, 6, 7}\n"
     ]
    }
   ],
   "source": [
    "# Create list and tuple from set\n",
    "l1 = list(s)\n",
    "print(l1)\n",
    "t1 = tuple(s)\n",
    "print(t1)\n",
    "print(s)\n",
    "s1 = {4,5,6,7}\n",
    "print(s)\n",
    "print(s1)\n"
   ]
  },
  {
   "cell_type": "code",
   "execution_count": 46,
   "metadata": {},
   "outputs": [
    {
     "name": "stdout",
     "output_type": "stream",
     "text": [
      "{2, 3}\n",
      "{4, 5}\n"
     ]
    }
   ],
   "source": [
    "# Set operations on sets\n",
    "s.union(s1)\n",
    "dir(s)\n",
    "print(s.difference(s1))\n",
    "print(s.intersection(s1))\n"
   ]
  },
  {
   "cell_type": "code",
   "execution_count": 47,
   "metadata": {},
   "outputs": [
    {
     "name": "stdout",
     "output_type": "stream",
     "text": [
      "[0, 1, 2, 3, 4, 5, 6, 7, 8, 9]\n",
      "[10, 11, 12, 13, 14, 15, 16, 17, 18, 19]\n",
      "[10, 12, 14, 16, 18]\n"
     ]
    }
   ],
   "source": [
    "# Range Function to generate numbers\n",
    "range(10)\n",
    "print(list(range(10)))\n",
    "print(list(range(10,20)))\n",
    "print(list(range(10,20,2)))\n"
   ]
  },
  {
   "cell_type": "code",
   "execution_count": 48,
   "metadata": {},
   "outputs": [
    {
     "name": "stdout",
     "output_type": "stream",
     "text": [
      "Ravi\n",
      "{'fname': 'Ravi', 'lname': 'Y'}\n"
     ]
    }
   ],
   "source": [
    "#Define Dictionary\n",
    "d = {'fname' : 'Ravi', 'lname' : 'Y'}\n",
    "\n",
    "#Access Dictionary\n",
    "print(d['fname'])\n",
    "\n",
    "# Functions on dictionary\n",
    "dir(d)\n",
    "\n",
    "print(d)\n"
   ]
  },
  {
   "cell_type": "code",
   "execution_count": 49,
   "metadata": {},
   "outputs": [
    {
     "name": "stdout",
     "output_type": "stream",
     "text": [
      "Help on built-in function get:\n",
      "\n",
      "get(key, default=None, /) method of builtins.dict instance\n",
      "    Return the value for key if key is in the dictionary, else default.\n",
      "\n"
     ]
    }
   ],
   "source": [
    "# Get help on any python function/object\n",
    "help(d.get)\n"
   ]
  },
  {
   "cell_type": "code",
   "execution_count": 50,
   "metadata": {},
   "outputs": [
    {
     "name": "stdout",
     "output_type": "stream",
     "text": [
      "['reading', 'hiking']\n",
      "{'fname': 'Ravi', 'lname': 'Y', 'hobbies': ['reading', 'hiking', 'biking']}\n"
     ]
    }
   ],
   "source": [
    "# Update vlaues in dictionary\n",
    "d['hobbies'] = ['reading', 'hiking']\n",
    "\n",
    "#Access Dictionary\n",
    "print(d['hobbies'])\n",
    "\n",
    "d['hobbies'] = ['reading', 'hiking', 'biking']\n",
    "print(d)\n"
   ]
  },
  {
   "cell_type": "code",
   "execution_count": 51,
   "metadata": {},
   "outputs": [
    {
     "name": "stdout",
     "output_type": "stream",
     "text": [
      "{'fname': 'Ravi', 'lname': 'Y', 'hobbies': ['reading', 'hiking', 'biking'], 100: 200}\n"
     ]
    }
   ],
   "source": [
    "# Add 100 as new key to d\n",
    "d[100] = 200\n",
    "print(d)\n"
   ]
  },
  {
   "cell_type": "code",
   "execution_count": 52,
   "metadata": {},
   "outputs": [
    {
     "name": "stdout",
     "output_type": "stream",
     "text": [
      "{'fname': 'Ravi', 'lname': 'Y', 'hobbies': ['reading', 'hiking', 'biking']}\n"
     ]
    }
   ],
   "source": [
    "# Remove Key 100 from d\n",
    "del d[100]\n",
    "print(d)\n"
   ]
  },
  {
   "cell_type": "code",
   "execution_count": 53,
   "metadata": {},
   "outputs": [
    {
     "name": "stdout",
     "output_type": "stream",
     "text": [
      "{'fname': 'Ravi', 'lname': 'Y', 'hobbies': ['reading', 'hiking', 'biking']}\n"
     ]
    }
   ],
   "source": [
    "# Check if key is in d\n",
    "'fname' in d\n",
    "'abc' in d\n",
    "'abc' in d.keys()\n",
    "'fname' in d.keys()\n",
    "print(d)\n"
   ]
  },
  {
   "cell_type": "code",
   "execution_count": 54,
   "metadata": {},
   "outputs": [
    {
     "name": "stdout",
     "output_type": "stream",
     "text": [
      "5\n",
      "4\n",
      "3\n",
      "2\n",
      "1\n"
     ]
    }
   ],
   "source": [
    "# While loop\n",
    "l= [1,2,3,4,5]\n",
    "while len(l) > 0 :\n",
    "    e = l.pop()\n",
    "    print(e)"
   ]
  },
  {
   "cell_type": "code",
   "execution_count": 55,
   "metadata": {},
   "outputs": [
    {
     "name": "stdout",
     "output_type": "stream",
     "text": [
      "0\n",
      "1\n",
      "2\n",
      "3\n",
      "4\n",
      "5\n",
      "6\n",
      "7\n",
      "8\n",
      "9\n",
      "at the end of loop\n"
     ]
    }
   ],
   "source": [
    "# For loop with else\n",
    "for i in range(10) :\n",
    "    print(i)\n",
    "else :\n",
    "    print(\"at the end of loop\")"
   ]
  },
  {
   "cell_type": "code",
   "execution_count": 56,
   "metadata": {},
   "outputs": [
    {
     "name": "stdout",
     "output_type": "stream",
     "text": [
      "0\n",
      "1\n",
      "2\n",
      "3\n",
      "4\n",
      "5\n",
      "6\n"
     ]
    }
   ],
   "source": [
    "# For loop with else, does not go to else because of break\n",
    "for i in range(10) :\n",
    "    print(i)\n",
    "    if i > 5 :\n",
    "        break\n",
    "else :\n",
    "    print(\"at the end of loop\")"
   ]
  },
  {
   "cell_type": "code",
   "execution_count": 58,
   "metadata": {},
   "outputs": [
    {
     "name": "stdout",
     "output_type": "stream",
     "text": [
      "1\n",
      "2\n",
      "3\n",
      "4\n",
      "5\n",
      "Ravi\n",
      "Y\n",
      "['reading', 'hiking', 'biking']\n",
      "fname Ravi\n",
      "lname Y\n",
      "hobbies ['reading', 'hiking', 'biking']\n"
     ]
    }
   ],
   "source": [
    "l = [1,2,3,4,5]\n",
    "d = {'fname': 'Ravi', 'lname': 'Y', 'hobbies': ['reading', 'hiking', 'biking']}\n",
    "# Looping through list.\n",
    "for i in l :\n",
    "    print(i)\n",
    "\n",
    "# Looping through dictionary\n",
    "for i in d :\n",
    "    print(d[i])\n",
    "\n",
    "\n",
    "\n",
    "for i in d.keys() :\n",
    "    print(i, d[i])\n"
   ]
  },
  {
   "cell_type": "code",
   "execution_count": 60,
   "metadata": {},
   "outputs": [
    {
     "name": "stdout",
     "output_type": "stream",
     "text": [
      "0\n",
      "2\n",
      "4\n",
      "6\n",
      "8\n",
      "10\n",
      "12\n",
      "14\n",
      "16\n",
      "18\n",
      "1\n",
      "3\n",
      "5\n",
      "7\n",
      "9\n",
      "11\n",
      "13\n",
      "15\n",
      "17\n",
      "19\n",
      "1\n",
      "2\n",
      "3\n",
      "4\n",
      "5\n"
     ]
    }
   ],
   "source": [
    "# Print even numbers\n",
    "for i in range(0,20,2) :\n",
    "    print(i)\n",
    "\n",
    "# Print odd numbers\n",
    "for i in range(1,20,2) :\n",
    "    print(i)\n",
    "\n",
    "# Use range to generate indexes for a list\n",
    "for i in range(len(l)) :\n",
    "    print(l[i])\n"
   ]
  },
  {
   "cell_type": "code",
   "execution_count": 61,
   "metadata": {},
   "outputs": [
    {
     "name": "stdout",
     "output_type": "stream",
     "text": [
      "[0, 1, 2, 3, 4, 5, 6, 7, 8, 9]\n"
     ]
    }
   ],
   "source": [
    "# Create a list of 0 to 99 using range function.\n",
    "l = list(range(10))\n",
    "print(l)\n"
   ]
  },
  {
   "cell_type": "code",
   "execution_count": 62,
   "metadata": {},
   "outputs": [
    {
     "name": "stdout",
     "output_type": "stream",
     "text": [
      "[0, 2, 4, 6, 8]\n"
     ]
    }
   ],
   "source": [
    "\n",
    "# Using list comprehension create a list e of even numbers from l\n",
    "e = [i for i in l if i%2==0]\n",
    "print(e)\n"
   ]
  },
  {
   "cell_type": "code",
   "execution_count": 63,
   "metadata": {},
   "outputs": [
    {
     "name": "stdout",
     "output_type": "stream",
     "text": [
      "[(0, []), (1, []), (2, []), (3, []), (4, [2]), (5, []), (6, [2, 3]), (7, []), (8, [2, 4]), (9, [3])]\n"
     ]
    }
   ],
   "source": [
    "# Using list comprehension create a list f of tuples of number and its factors l\n",
    "f = [(i, [j for j in range(2,i) if i%j == 0]) for i in range(10)]\n",
    "print(f)\n"
   ]
  },
  {
   "cell_type": "code",
   "execution_count": 64,
   "metadata": {},
   "outputs": [
    {
     "name": "stdout",
     "output_type": "stream",
     "text": [
      "{0: [], 1: [], 2: [], 3: [], 4: [2], 5: [], 6: [2, 3], 7: [], 8: [2, 4], 9: [3]}\n"
     ]
    }
   ],
   "source": [
    "# Using list comprehension create a dict f with key as integer upto 10, value as list of its factors\n",
    "f = dict([(i, [j for j in range(2,i) if i%j == 0]) for i in range(10)])\n",
    "print(f)\n"
   ]
  },
  {
   "cell_type": "code",
   "execution_count": 71,
   "metadata": {},
   "outputs": [
    {
     "name": "stdout",
     "output_type": "stream",
     "text": [
      "True\n"
     ]
    }
   ],
   "source": [
    "\n",
    "# Short hand form of if\n",
    "i = 10\n",
    "m = True if i % 2 == 0 else False\n",
    "print(m)\n"
   ]
  },
  {
   "cell_type": "code",
   "execution_count": 70,
   "metadata": {},
   "outputs": [
    {
     "name": "stdout",
     "output_type": "stream",
     "text": [
      "[0, 2, 4, 6, 8]\n",
      "[(1, 0), (2, 0), (2, 1), (3, 0), (3, 1), (3, 2), (4, 0), (4, 1), (4, 2), (4, 3), (5, 0), (5, 1), (5, 2), (5, 3), (5, 4), (6, 0), (6, 1), (6, 2), (6, 3), (6, 4), (6, 5), (7, 0), (7, 1), (7, 2), (7, 3), (7, 4), (7, 5), (7, 6), (8, 0), (8, 1), (8, 2), (8, 3), (8, 4), (8, 5), (8, 6), (8, 7), (9, 0), (9, 1), (9, 2), (9, 3), (9, 4), (9, 5), (9, 6), (9, 7), (9, 8)]\n",
      "[(2, 0), (4, 0), (4, 2), (6, 0), (6, 2), (6, 4), (8, 0), (8, 2), (8, 4), (8, 6)]\n"
     ]
    }
   ],
   "source": [
    "# More list comprehension examples.\n",
    "print([i for i in range(10) if i % 2 == 0])\n",
    "print([(i, j) for i in range(10) for j in range(i)])\n",
    "print([(i, j) for i in range(10) for j in range(i) if i%2 == 0 and j%2 == 0])\n"
   ]
  }
 ],
 "metadata": {
  "kernelspec": {
   "display_name": "Python 3",
   "language": "python",
   "name": "python3"
  },
  "language_info": {
   "codemirror_mode": {
    "name": "ipython",
    "version": 3
   },
   "file_extension": ".py",
   "mimetype": "text/x-python",
   "name": "python",
   "nbconvert_exporter": "python",
   "pygments_lexer": "ipython3",
   "version": "3.7.4"
  }
 },
 "nbformat": 4,
 "nbformat_minor": 2
}
