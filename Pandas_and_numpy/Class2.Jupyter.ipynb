{
 "cells": [
  {
   "cell_type": "markdown",
   "metadata": {},
   "source": [
    "# Jupyter Notebook Tips"
   ]
  },
  {
   "cell_type": "code",
   "execution_count": 2,
   "metadata": {},
   "outputs": [],
   "source": [
    "#Jupyter Notebook Tips\n",
    "print?  #To get help on a function\n",
    "print   #shift+tab after function name to get function signature\n",
    "pwd # to get current working folder. If you are trying to open any files, path of file should be relative to pwd.\n",
    "\n"
   ]
  },
  {
   "cell_type": "code",
   "execution_count": 4,
   "metadata": {},
   "outputs": [],
   "source": [
    "def myPrint(inStr) :\n",
    "    print(inStr)"
   ]
  },
  {
   "cell_type": "code",
   "execution_count": 5,
   "metadata": {},
   "outputs": [],
   "source": [
    "#Jupyter Notebook Tips\n",
    "myPrint   # Tab anytime to get recommendations / auto complete \n",
    "myPrint?? # ?? to get definition of function.\n"
   ]
  },
  {
   "cell_type": "markdown",
   "metadata": {},
   "source": [
    "# String Formatting and Token Substitution"
   ]
  },
  {
   "cell_type": "code",
   "execution_count": 24,
   "metadata": {},
   "outputs": [
    {
     "name": "stdout",
     "output_type": "stream",
     "text": [
      "Integer : 100, String : I am a String\n",
      "Integer : 100, String : I am a String\n",
      "Integer : 100, String : I am a String\n",
      "Integer : 100, String : I am a String\n",
      "Integer : {i}, String : {s}\n",
      "Integer : 100, String : I am a String\n"
     ]
    }
   ],
   "source": [
    "i = 100\n",
    "s = \"I am a String\"\n",
    "\n",
    "print(\"Integer : %d, String : %s\"%(i, s))\n",
    "print(\"Integer : {}, String : {}\".format(i, s))\n",
    "print(\"Integer : {intParam}, String : {strParam}\".format(intParam=i, strParam=s))\n",
    "print(\"Integer : {intParam}, String : {strParam}\".format(strParam=s, intParam=i))\n",
    "print(\"Integer : {i}, String : {s}\")\n",
    "print(f\"Integer : {i}, String : {s}\")\n"
   ]
  },
  {
   "cell_type": "markdown",
   "metadata": {},
   "source": [
    "# Function parameters with default values"
   ]
  },
  {
   "cell_type": "code",
   "execution_count": 8,
   "metadata": {},
   "outputs": [
    {
     "name": "stdout",
     "output_type": "stream",
     "text": [
      "1,2,3 6\n"
     ]
    },
    {
     "ename": "TypeError",
     "evalue": "myAdd() missing 1 required positional argument: 'c'",
     "output_type": "error",
     "traceback": [
      "\u001b[1;31m---------------------------------------------------------------------------\u001b[0m",
      "\u001b[1;31mTypeError\u001b[0m                                 Traceback (most recent call last)",
      "\u001b[1;32m<ipython-input-8-7fcac2eafac2>\u001b[0m in \u001b[0;36m<module>\u001b[1;34m\u001b[0m\n\u001b[0;32m      6\u001b[0m \u001b[0mprint\u001b[0m\u001b[1;33m(\u001b[0m\u001b[1;34m\"1,2,3\"\u001b[0m\u001b[1;33m,\u001b[0m \u001b[0mmyAdd\u001b[0m\u001b[1;33m(\u001b[0m\u001b[1;36m1\u001b[0m\u001b[1;33m,\u001b[0m\u001b[1;36m2\u001b[0m\u001b[1;33m,\u001b[0m\u001b[1;36m3\u001b[0m\u001b[1;33m)\u001b[0m\u001b[1;33m)\u001b[0m\u001b[1;33m\u001b[0m\u001b[1;33m\u001b[0m\u001b[0m\n\u001b[0;32m      7\u001b[0m \u001b[1;31m# Error if called with less than 3 param\u001b[0m\u001b[1;33m\u001b[0m\u001b[1;33m\u001b[0m\u001b[1;33m\u001b[0m\u001b[0m\n\u001b[1;32m----> 8\u001b[1;33m \u001b[0mprint\u001b[0m\u001b[1;33m(\u001b[0m\u001b[1;34m\"1,2\"\u001b[0m\u001b[1;33m,\u001b[0m \u001b[0mmyAdd\u001b[0m\u001b[1;33m(\u001b[0m\u001b[1;36m1\u001b[0m\u001b[1;33m,\u001b[0m\u001b[1;36m2\u001b[0m\u001b[1;33m)\u001b[0m\u001b[1;33m)\u001b[0m\u001b[1;33m\u001b[0m\u001b[1;33m\u001b[0m\u001b[0m\n\u001b[0m",
      "\u001b[1;31mTypeError\u001b[0m: myAdd() missing 1 required positional argument: 'c'"
     ]
    }
   ],
   "source": [
    "# Function definition\n",
    "def myAdd(a, b, c) :\n",
    "    print(f\"a : {a} b : {b} c : {c}\")\n",
    "    return a + b + c\n",
    "\n",
    "# To call a function\n",
    "print(\"1,2,3\", myAdd(1,2,3))\n",
    "# Error if called with less than 3 param\n",
    "print(\"1,2\", myAdd(1,2))"
   ]
  },
  {
   "cell_type": "code",
   "execution_count": 17,
   "metadata": {},
   "outputs": [
    {
     "name": "stdout",
     "output_type": "stream",
     "text": [
      "a : 0 b : 0 c : 0\n",
      "no param 0\n",
      "a : 1 b : 0 c : 0\n",
      "1 param 1\n",
      "a : 1 b : 2 c : 0\n",
      "2 param 3\n",
      "a : 1 b : 2 c : 3\n",
      "3 param 6\n"
     ]
    }
   ],
   "source": [
    "# To make it behave with polymorphism, add default values to optional parameters\n",
    "def myAdd(a=0, b=0, c=0) :\n",
    "    print(f\"a : {a} b : {b} c : {c}\")\n",
    "    return a + b + c\n",
    "\n",
    "# Default value params should always be after regular parameters in function definition\n",
    "\n",
    "# Works with no param\n",
    "print(\"no param\", myAdd())\n",
    "# Works with one, two or three param\n",
    "print(\"1 param\", myAdd(1))\n",
    "print(\"2 param\", myAdd(1,2))\n",
    "print(\"3 param\", myAdd(1,2,3))"
   ]
  },
  {
   "cell_type": "markdown",
   "metadata": {},
   "source": [
    "# List as parameters"
   ]
  },
  {
   "cell_type": "code",
   "execution_count": 12,
   "metadata": {},
   "outputs": [
    {
     "name": "stdout",
     "output_type": "stream",
     "text": [
      "list as param 6\n",
      "list as param, 3 elements in list 6\n",
      "list as param, 2 elements in list 3\n",
      "list as param, 1 element in list 1\n"
     ]
    }
   ],
   "source": [
    "l = [1,2,3]\n",
    "print(\"list as param\", myAdd(*l))\n",
    "\n",
    "# all of below will work\n",
    "l = [1,2,3]\n",
    "print(\"list as param, 3 elements in list\", myAdd(*l))\n",
    "l = [1,2]\n",
    "print(\"list as param, 2 elements in list\", myAdd(*l))\n",
    "l = [1]\n",
    "print(\"list as param, 1 element in list\", myAdd(*l))\n"
   ]
  },
  {
   "cell_type": "code",
   "execution_count": 13,
   "metadata": {},
   "outputs": [
    {
     "ename": "TypeError",
     "evalue": "myAdd() takes from 0 to 3 positional arguments but 4 were given",
     "output_type": "error",
     "traceback": [
      "\u001b[1;31m---------------------------------------------------------------------------\u001b[0m",
      "\u001b[1;31mTypeError\u001b[0m                                 Traceback (most recent call last)",
      "\u001b[1;32m<ipython-input-13-25f289e2faaa>\u001b[0m in \u001b[0;36m<module>\u001b[1;34m\u001b[0m\n\u001b[0;32m      1\u001b[0m \u001b[1;31m# Gives Error on below, as list has more than three param\u001b[0m\u001b[1;33m\u001b[0m\u001b[1;33m\u001b[0m\u001b[1;33m\u001b[0m\u001b[0m\n\u001b[0;32m      2\u001b[0m \u001b[0ml\u001b[0m \u001b[1;33m=\u001b[0m \u001b[1;33m[\u001b[0m\u001b[1;36m1\u001b[0m\u001b[1;33m,\u001b[0m\u001b[1;36m2\u001b[0m\u001b[1;33m,\u001b[0m\u001b[1;36m3\u001b[0m\u001b[1;33m,\u001b[0m\u001b[1;36m4\u001b[0m\u001b[1;33m]\u001b[0m\u001b[1;33m\u001b[0m\u001b[1;33m\u001b[0m\u001b[0m\n\u001b[1;32m----> 3\u001b[1;33m \u001b[0mprint\u001b[0m\u001b[1;33m(\u001b[0m\u001b[1;34m\"list as param\"\u001b[0m\u001b[1;33m,\u001b[0m \u001b[0mmyAdd\u001b[0m\u001b[1;33m(\u001b[0m\u001b[1;33m*\u001b[0m\u001b[0ml\u001b[0m\u001b[1;33m)\u001b[0m\u001b[1;33m)\u001b[0m\u001b[1;33m\u001b[0m\u001b[1;33m\u001b[0m\u001b[0m\n\u001b[0m\u001b[0;32m      4\u001b[0m \u001b[1;33m\u001b[0m\u001b[0m\n",
      "\u001b[1;31mTypeError\u001b[0m: myAdd() takes from 0 to 3 positional arguments but 4 were given"
     ]
    }
   ],
   "source": [
    "# Gives Error on below, as list has more than three param\n",
    "l = [1,2,3,4]\n",
    "print(\"list as param\", myAdd(*l))\n"
   ]
  },
  {
   "cell_type": "code",
   "execution_count": 14,
   "metadata": {},
   "outputs": [
    {
     "name": "stdout",
     "output_type": "stream",
     "text": [
      "name value params 3\n"
     ]
    }
   ],
   "source": [
    "# You can call function with name value parameters\n",
    "print(\"name value params\", myAdd(c=3))"
   ]
  },
  {
   "cell_type": "markdown",
   "metadata": {},
   "source": [
    "# Dictionary values as function parameters"
   ]
  },
  {
   "cell_type": "code",
   "execution_count": 25,
   "metadata": {},
   "outputs": [
    {
     "name": "stdout",
     "output_type": "stream",
     "text": [
      "a : 0 b : 0 c : 3\n",
      "dict as param with c 3\n",
      "a : 1 b : 0 c : 3\n",
      "dict as param with c,a 4\n",
      "a : 1 b : 2 c : 3\n",
      "dict as param with c,a,b 6\n"
     ]
    }
   ],
   "source": [
    "d = {'c':3}\n",
    "print(\"dict as param with c\", myAdd(**d))\n",
    "d = {'c':3, 'a':1}\n",
    "print(\"dict as param with c,a\", myAdd(**d))\n",
    "d = {'c':3, 'a':1, 'b':2}\n",
    "print(\"dict as param with c,a,b\", myAdd(**d))\n"
   ]
  },
  {
   "cell_type": "markdown",
   "metadata": {},
   "source": [
    "# Defining functions that can take variable number of parameters"
   ]
  },
  {
   "cell_type": "code",
   "execution_count": 26,
   "metadata": {},
   "outputs": [],
   "source": [
    "def myAdd(a=0, b=0, c=0, *l) :\n",
    "    print(f\"a : {a} b : {b} c : {c}\")\n",
    "    total = a + b + c\n",
    "    print(\"l\", type(l), l)\n",
    "    for i in l :\n",
    "        if type(i).__name__ == 'int' :\n",
    "            total += i\n",
    "    return total"
   ]
  },
  {
   "cell_type": "code",
   "execution_count": 27,
   "metadata": {},
   "outputs": [
    {
     "name": "stdout",
     "output_type": "stream",
     "text": [
      "a : 1 b : 2 c : 3\n",
      "l <class 'tuple'> (4, 5)\n"
     ]
    },
    {
     "data": {
      "text/plain": [
       "15"
      ]
     },
     "execution_count": 27,
     "metadata": {},
     "output_type": "execute_result"
    }
   ],
   "source": [
    "myAdd(1,2,3,4,5)"
   ]
  },
  {
   "cell_type": "code",
   "execution_count": 28,
   "metadata": {},
   "outputs": [
    {
     "name": "stdout",
     "output_type": "stream",
     "text": [
      "a : 1 b : 2 c : 3\n",
      "l <class 'tuple'> (4, 5, 6, 7, 8, 9)\n"
     ]
    },
    {
     "data": {
      "text/plain": [
       "45"
      ]
     },
     "execution_count": 28,
     "metadata": {},
     "output_type": "execute_result"
    }
   ],
   "source": [
    "myAdd(1,2,3,4,5,6,7,8,9)"
   ]
  },
  {
   "cell_type": "code",
   "execution_count": 30,
   "metadata": {},
   "outputs": [
    {
     "name": "stdout",
     "output_type": "stream",
     "text": [
      "a : 0 b : 1 c : 2\n",
      "l <class 'tuple'> (3, 4, 5, 6, 7, 8, 9, 10, 11, 12, 13, 14, 15, 16, 17, 18, 19, 20, 21, 22, 23, 24, 25, 26, 27, 28, 29, 30, 31, 32, 33, 34, 35, 36, 37, 38, 39, 40, 41, 42, 43, 44, 45, 46, 47, 48, 49, 50, 51, 52, 53, 54, 55, 56, 57, 58, 59, 60, 61, 62, 63, 64, 65, 66, 67, 68, 69, 70, 71, 72, 73, 74, 75, 76, 77, 78, 79, 80, 81, 82, 83, 84, 85, 86, 87, 88, 89, 90, 91, 92, 93, 94, 95, 96, 97, 98, 99)\n"
     ]
    },
    {
     "data": {
      "text/plain": [
       "4950"
      ]
     },
     "execution_count": 30,
     "metadata": {},
     "output_type": "execute_result"
    }
   ],
   "source": [
    "l = list(range(100))\n",
    "myAdd(*l)"
   ]
  },
  {
   "cell_type": "code",
   "execution_count": 31,
   "metadata": {},
   "outputs": [
    {
     "name": "stdout",
     "output_type": "stream",
     "text": [
      "a : 1 b : 0 c : 0\n",
      "l <class 'tuple'> ()\n"
     ]
    },
    {
     "data": {
      "text/plain": [
       "1"
      ]
     },
     "execution_count": 31,
     "metadata": {},
     "output_type": "execute_result"
    }
   ],
   "source": [
    "myAdd(a=1)"
   ]
  },
  {
   "cell_type": "code",
   "execution_count": 32,
   "metadata": {},
   "outputs": [
    {
     "ename": "TypeError",
     "evalue": "myAdd() got an unexpected keyword argument 'd'",
     "output_type": "error",
     "traceback": [
      "\u001b[1;31m---------------------------------------------------------------------------\u001b[0m",
      "\u001b[1;31mTypeError\u001b[0m                                 Traceback (most recent call last)",
      "\u001b[1;32m<ipython-input-32-2feaf89651ba>\u001b[0m in \u001b[0;36m<module>\u001b[1;34m\u001b[0m\n\u001b[1;32m----> 1\u001b[1;33m \u001b[0mmyAdd\u001b[0m\u001b[1;33m(\u001b[0m\u001b[0ma\u001b[0m\u001b[1;33m=\u001b[0m\u001b[1;36m1\u001b[0m\u001b[1;33m,\u001b[0m \u001b[0md\u001b[0m\u001b[1;33m=\u001b[0m\u001b[1;36m3\u001b[0m\u001b[1;33m)\u001b[0m \u001b[1;31m# Gives error as d is not defined as parameter to myAdd\u001b[0m\u001b[1;33m\u001b[0m\u001b[1;33m\u001b[0m\u001b[0m\n\u001b[0m",
      "\u001b[1;31mTypeError\u001b[0m: myAdd() got an unexpected keyword argument 'd'"
     ]
    }
   ],
   "source": [
    "myAdd(a=1, d=3) # Gives error as d is not defined as parameter to myAdd"
   ]
  },
  {
   "cell_type": "code",
   "execution_count": 33,
   "metadata": {},
   "outputs": [],
   "source": [
    "def myAdd(a=0, b=0, c=0, *l, **d) :\n",
    "    print(f\"a : {a} b : {b} c : {c}\")\n",
    "    total = a + b + c\n",
    "    print(\"l\", type(l), l)\n",
    "    \n",
    "    count=3\n",
    "    for i in l :\n",
    "        if type(i).__name__ == 'int' :\n",
    "            total += i\n",
    "            count+=1\n",
    "\n",
    "    print(\"d\", type(d), d)\n",
    "    for i in d :\n",
    "        if type(d[i]).__name__ == 'int' :\n",
    "            total += d[i]\n",
    "            count+=1\n",
    "\n",
    "    return total, count\n",
    "# Function can return multiple parameters"
   ]
  },
  {
   "cell_type": "code",
   "execution_count": 34,
   "metadata": {},
   "outputs": [
    {
     "name": "stdout",
     "output_type": "stream",
     "text": [
      "a : 1 b : 0 c : 0\n",
      "l <class 'tuple'> ()\n",
      "d <class 'dict'> {'d': 4}\n"
     ]
    },
    {
     "data": {
      "text/plain": [
       "5"
      ]
     },
     "execution_count": 34,
     "metadata": {},
     "output_type": "execute_result"
    }
   ],
   "source": [
    "myAdd(a=1, d=4)"
   ]
  },
  {
   "cell_type": "code",
   "execution_count": 39,
   "metadata": {},
   "outputs": [
    {
     "name": "stdout",
     "output_type": "stream",
     "text": [
      "a : 1 b : 2 c : 3\n",
      "l <class 'tuple'> (4, 5)\n",
      "d <class 'dict'> {'d': 10, 'e': 20}\n"
     ]
    },
    {
     "data": {
      "text/plain": [
       "45"
      ]
     },
     "execution_count": 39,
     "metadata": {},
     "output_type": "execute_result"
    }
   ],
   "source": [
    "myAdd(1,2,3,4,5,d=10,e=20)"
   ]
  },
  {
   "cell_type": "markdown",
   "metadata": {},
   "source": [
    "# OOP - Classes / Objects"
   ]
  },
  {
   "cell_type": "code",
   "execution_count": 61,
   "metadata": {},
   "outputs": [],
   "source": [
    "class Bag :\n",
    "    width=10\n",
    "    height=9\n",
    "    contents = []\n",
    "    \n",
    "    def __init__(self, inputType=\"None\") :\n",
    "        self.type = inputType\n",
    "        \n",
    "    def getType(self) :\n",
    "        return self.type\n",
    "    \n",
    "    def addItem(self, item) :\n",
    "        self.contents.append(item)\n",
    "    \n",
    "    def getContents(self) :\n",
    "        return tuple(self.contents)\n",
    "    \n",
    "    def __add__(self, bag) :\n",
    "        return self.getContents() + bag.getContents()"
   ]
  },
  {
   "cell_type": "code",
   "execution_count": 63,
   "metadata": {},
   "outputs": [
    {
     "data": {
      "text/plain": [
       "'Bag'"
      ]
     },
     "execution_count": 63,
     "metadata": {},
     "output_type": "execute_result"
    }
   ],
   "source": [
    "b = Bag(\"Bag\")\n",
    "b.getType()\n"
   ]
  },
  {
   "cell_type": "code",
   "execution_count": 47,
   "metadata": {},
   "outputs": [
    {
     "data": {
      "text/plain": [
       "'small'"
      ]
     },
     "execution_count": 47,
     "metadata": {},
     "output_type": "execute_result"
    }
   ],
   "source": [
    "\n",
    "b = Bag('small')\n",
    "b.getType()"
   ]
  },
  {
   "cell_type": "code",
   "execution_count": 84,
   "metadata": {},
   "outputs": [
    {
     "data": {
      "text/plain": [
       "20"
      ]
     },
     "execution_count": 84,
     "metadata": {},
     "output_type": "execute_result"
    }
   ],
   "source": [
    "class LaptopBag(Bag) :\n",
    "    def __init__(self, inputSize = 14) :\n",
    "        super().__init__(\"Laptop\")\n",
    "        #Bag.__init__(self, 'Laptop')\n",
    "        self.laptopSize = inputSize\n",
    "\n",
    "    def getLaptopSize(self) :\n",
    "        return self.laptopSize\n",
    "    \n",
    "l = LaptopBag(20)\n",
    "l.getType()\n",
    "l.getLaptopSize()"
   ]
  },
  {
   "cell_type": "code",
   "execution_count": 83,
   "metadata": {},
   "outputs": [
    {
     "name": "stdout",
     "output_type": "stream",
     "text": [
      "School\n",
      "large\n"
     ]
    }
   ],
   "source": [
    "class SchoolBag(Bag) :\n",
    "    def __init__(self, inputSize = \"small\") :\n",
    "        super().__init__(\"School\")\n",
    "        #Bag.__init__(self, 'School')\n",
    "        self.schoolBagSize = inputSize\n",
    "\n",
    "    def getSchoolBagSize(self) :\n",
    "        return self.schoolBagSize\n",
    "    \n",
    "s = SchoolBag(\"large\")\n",
    "print(s.getType())\n",
    "print(s.getSchoolBagSize())"
   ]
  },
  {
   "cell_type": "code",
   "execution_count": 81,
   "metadata": {},
   "outputs": [],
   "source": [
    "class Bag :\n",
    "    width=10\n",
    "    height=9\n",
    "    \n",
    "    def __init__(self, inputType=\"None\") :\n",
    "        self.type = inputType\n",
    "        self.contents = []\n",
    "        \n",
    "    def getType(self) :\n",
    "        return self.type\n",
    "    \n",
    "    def addItem(self, item) :\n",
    "        self.contents.append(item)\n",
    "    \n",
    "    def getContents(self) :\n",
    "        return tuple(self.contents)\n",
    "    \n",
    "    def __add__(self, bag) :\n",
    "        return self.getContents() + bag.getContents()"
   ]
  },
  {
   "cell_type": "code",
   "execution_count": 68,
   "metadata": {},
   "outputs": [
    {
     "name": "stdout",
     "output_type": "stream",
     "text": [
      "('item1',)\n"
     ]
    }
   ],
   "source": [
    "b1 = Bag(\"Bag1\")\n",
    "b1.addItem(\"item1\")\n",
    "print(b1.getContents())"
   ]
  },
  {
   "cell_type": "code",
   "execution_count": 69,
   "metadata": {},
   "outputs": [
    {
     "name": "stdout",
     "output_type": "stream",
     "text": [
      "('item2',)\n"
     ]
    }
   ],
   "source": [
    "b2 = Bag(\"Bag2\")\n",
    "b2.addItem(\"item2\")\n",
    "print(b2.getContents())"
   ]
  },
  {
   "cell_type": "code",
   "execution_count": 70,
   "metadata": {},
   "outputs": [
    {
     "data": {
      "text/plain": [
       "('item1', 'item2')"
      ]
     },
     "execution_count": 70,
     "metadata": {},
     "output_type": "execute_result"
    }
   ],
   "source": [
    "b1 + b2"
   ]
  },
  {
   "cell_type": "code",
   "execution_count": 85,
   "metadata": {},
   "outputs": [],
   "source": [
    "class laptopSchoolBag(LaptopBag, SchoolBag) :\n",
    "    def __init__(self, laptopSize= 15, bagSize=\"Medium\") :\n",
    "        LaptopBag.__init__(self, laptopSize)\n",
    "        SchoolBag.__init__(self, bagSize)\n",
    "        Bag.__init__(self, \"**Laptop School Bag**\")\n",
    "        "
   ]
  },
  {
   "cell_type": "code",
   "execution_count": 89,
   "metadata": {},
   "outputs": [
    {
     "name": "stdout",
     "output_type": "stream",
     "text": [
      "**Laptop School Bag**\n",
      "Medium\n",
      "15\n",
      "()\n",
      "('Pen',)\n",
      "('Pen', 'Book', 'Laptop')\n"
     ]
    }
   ],
   "source": [
    "lsb = laptopSchoolBag()\n",
    "print(lsb.getType())\n",
    "print(lsb.getSchoolBagSize())\n",
    "print(lsb.getLaptopSize())\n",
    "print(lsb.getContents())\n",
    "lsb.addItem(\"Pen\")\n",
    "print(lsb.getContents())\n",
    "lsb.addItem(\"Book\")\n",
    "lsb.addItem(\"Laptop\")\n",
    "print(lsb.getContents())\n"
   ]
  },
  {
   "cell_type": "code",
   "execution_count": 92,
   "metadata": {},
   "outputs": [],
   "source": [
    "# __name__ == \"__main__\" when module executed directly instead of import, __name__ will have value as \"__main__\"\n",
    "# Function is a object also, you can pass function as parameter or return value\n",
    "# import <module name> without .py will execute contents of .py in current namespace\n",
    "# Import can done in below two ways.\n",
    "### import sys\n",
    "### from sys import argv\n",
    "# Same as above with alias\n",
    "### import sys as s\n",
    "### from sys import argv as arg\n",
    "\n",
    "# global to update module variables inside functions\n",
    "# classes are defined in their own .py files and imported into other modules.\n"
   ]
  },
  {
   "cell_type": "code",
   "execution_count": 95,
   "metadata": {},
   "outputs": [
    {
     "name": "stdout",
     "output_type": "stream",
     "text": [
      "After exception\n",
      "prints always\n"
     ]
    }
   ],
   "source": [
    "# Exception block does not print\n",
    "try :\n",
    "    a = int('10')\n",
    "    print(\"After exception\")\n",
    "except :\n",
    "    print(\"In exception block\")\n",
    "finally:\n",
    "    print(\"prints always\")\n",
    "    "
   ]
  },
  {
   "cell_type": "code",
   "execution_count": 96,
   "metadata": {},
   "outputs": [
    {
     "name": "stdout",
     "output_type": "stream",
     "text": [
      "In exception block\n",
      "prints always\n"
     ]
    }
   ],
   "source": [
    "# Exception block prints, but print after int function does not print\n",
    "try :\n",
    "    a = int('a')\n",
    "    print(\"After exception\")\n",
    "except :\n",
    "    print(\"In exception block\")\n",
    "finally:\n",
    "    print(\"prints always\")\n"
   ]
  },
  {
   "cell_type": "code",
   "execution_count": 97,
   "metadata": {},
   "outputs": [
    {
     "name": "stdout",
     "output_type": "stream",
     "text": [
      "In exception block invalid literal for int() with base 10: 'a'\n",
      "prints always\n"
     ]
    }
   ],
   "source": [
    "#To get information about exception  \n",
    "try :\n",
    "    a = int('a')\n",
    "    print(\"After exception\")\n",
    "except Exception as e:\n",
    "    print(\"In exception block\", e)\n",
    "finally:\n",
    "    print(\"prints always\")\n"
   ]
  },
  {
   "cell_type": "code",
   "execution_count": 98,
   "metadata": {},
   "outputs": [
    {
     "data": {
      "text/plain": [
       "'C:\\\\Users\\\\Ravi'"
      ]
     },
     "execution_count": 98,
     "metadata": {},
     "output_type": "execute_result"
    }
   ],
   "source": [
    "pwd"
   ]
  },
  {
   "cell_type": "code",
   "execution_count": null,
   "metadata": {},
   "outputs": [],
   "source": []
  }
 ],
 "metadata": {
  "kernelspec": {
   "display_name": "Python 3",
   "language": "python",
   "name": "python3"
  },
  "language_info": {
   "codemirror_mode": {
    "name": "ipython",
    "version": 3
   },
   "file_extension": ".py",
   "mimetype": "text/x-python",
   "name": "python",
   "nbconvert_exporter": "python",
   "pygments_lexer": "ipython3",
   "version": "3.7.4"
  }
 },
 "nbformat": 4,
 "nbformat_minor": 2
}
