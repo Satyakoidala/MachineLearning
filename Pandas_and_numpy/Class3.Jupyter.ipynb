{
 "cells": [
  {
   "cell_type": "markdown",
   "metadata": {},
   "source": [
    "# Exceptions"
   ]
  },
  {
   "cell_type": "code",
   "execution_count": 165,
   "metadata": {},
   "outputs": [],
   "source": [
    "try : \n",
    "    #a = int('a') # Value Error\n",
    "    #a = 100/0 # ZeroDivionError\n",
    "\n",
    "    #l = [1,2,3]\n",
    "    #print(l[5]) # Index out of range intentionally\n",
    "    #f = open(\"fileerror.txt\", \"r\") # FileNotFoundError\n",
    "    pass\n",
    "except (ValueError, ZeroDivisionError) as e:\n",
    "    print(\"*** Error Non numeric value given, give numeric value as input\", e)\n",
    "except (ZeroDivisionError) as e :\n",
    "    print(\"*** Error Divide by zero\", e)\n",
    "except (IndexError) as e :\n",
    "    print(\"Index error\", e)\n",
    "except (FileNotFoundError) as e :\n",
    "    print(\"file does not exist\", e)\n",
    "except Exception as e :\n",
    "    print(\"From exception block\\n\", e.__class__.__name__, e)"
   ]
  },
  {
   "cell_type": "code",
   "execution_count": 153,
   "metadata": {},
   "outputs": [
    {
     "ename": "ValueError",
     "evalue": "invalid literal for int() with base 10: 'abc'",
     "output_type": "error",
     "traceback": [
      "\u001b[1;31m---------------------------------------------------------------------------\u001b[0m",
      "\u001b[1;31mValueError\u001b[0m                                Traceback (most recent call last)",
      "\u001b[1;32m<ipython-input-153-8bb33db64c8f>\u001b[0m in \u001b[0;36m<module>\u001b[1;34m\u001b[0m\n\u001b[0;32m      7\u001b[0m     \u001b[0mi\u001b[0m \u001b[1;33m=\u001b[0m \u001b[0mint\u001b[0m\u001b[1;33m(\u001b[0m\u001b[1;34m'abc'\u001b[0m\u001b[1;33m)\u001b[0m\u001b[1;33m\u001b[0m\u001b[1;33m\u001b[0m\u001b[0m\n\u001b[0;32m      8\u001b[0m \u001b[1;33m\u001b[0m\u001b[0m\n\u001b[1;32m----> 9\u001b[1;33m \u001b[0mexceptionFunc1\u001b[0m\u001b[1;33m(\u001b[0m\u001b[1;33m)\u001b[0m\u001b[1;33m\u001b[0m\u001b[1;33m\u001b[0m\u001b[0m\n\u001b[0m",
      "\u001b[1;32m<ipython-input-153-8bb33db64c8f>\u001b[0m in \u001b[0;36mexceptionFunc1\u001b[1;34m()\u001b[0m\n\u001b[0;32m      2\u001b[0m \u001b[1;33m\u001b[0m\u001b[0m\n\u001b[0;32m      3\u001b[0m \u001b[1;32mdef\u001b[0m \u001b[0mexceptionFunc1\u001b[0m\u001b[1;33m(\u001b[0m\u001b[1;33m)\u001b[0m \u001b[1;33m:\u001b[0m\u001b[1;33m\u001b[0m\u001b[1;33m\u001b[0m\u001b[0m\n\u001b[1;32m----> 4\u001b[1;33m     \u001b[0mexceptionFunc2\u001b[0m\u001b[1;33m(\u001b[0m\u001b[1;33m)\u001b[0m\u001b[1;33m\u001b[0m\u001b[1;33m\u001b[0m\u001b[0m\n\u001b[0m\u001b[0;32m      5\u001b[0m \u001b[1;33m\u001b[0m\u001b[0m\n\u001b[0;32m      6\u001b[0m \u001b[1;32mdef\u001b[0m \u001b[0mexceptionFunc2\u001b[0m\u001b[1;33m(\u001b[0m\u001b[1;33m)\u001b[0m \u001b[1;33m:\u001b[0m\u001b[1;33m\u001b[0m\u001b[1;33m\u001b[0m\u001b[0m\n",
      "\u001b[1;32m<ipython-input-153-8bb33db64c8f>\u001b[0m in \u001b[0;36mexceptionFunc2\u001b[1;34m()\u001b[0m\n\u001b[0;32m      5\u001b[0m \u001b[1;33m\u001b[0m\u001b[0m\n\u001b[0;32m      6\u001b[0m \u001b[1;32mdef\u001b[0m \u001b[0mexceptionFunc2\u001b[0m\u001b[1;33m(\u001b[0m\u001b[1;33m)\u001b[0m \u001b[1;33m:\u001b[0m\u001b[1;33m\u001b[0m\u001b[1;33m\u001b[0m\u001b[0m\n\u001b[1;32m----> 7\u001b[1;33m     \u001b[0mi\u001b[0m \u001b[1;33m=\u001b[0m \u001b[0mint\u001b[0m\u001b[1;33m(\u001b[0m\u001b[1;34m'abc'\u001b[0m\u001b[1;33m)\u001b[0m\u001b[1;33m\u001b[0m\u001b[1;33m\u001b[0m\u001b[0m\n\u001b[0m\u001b[0;32m      8\u001b[0m \u001b[1;33m\u001b[0m\u001b[0m\n\u001b[0;32m      9\u001b[0m \u001b[0mexceptionFunc1\u001b[0m\u001b[1;33m(\u001b[0m\u001b[1;33m)\u001b[0m\u001b[1;33m\u001b[0m\u001b[1;33m\u001b[0m\u001b[0m\n",
      "\u001b[1;31mValueError\u001b[0m: invalid literal for int() with base 10: 'abc'"
     ]
    }
   ],
   "source": [
    "# No exception handling\n",
    "\n",
    "def exceptionFunc1() :\n",
    "    exceptionFunc2()\n",
    "\n",
    "def exceptionFunc2() :\n",
    "    i = int('abc')\n",
    "\n",
    "exceptionFunc1()"
   ]
  },
  {
   "cell_type": "code",
   "execution_count": 155,
   "metadata": {},
   "outputs": [
    {
     "name": "stdout",
     "output_type": "stream",
     "text": [
      "From exception block invalid literal for int() with base 10: 'abc'\n"
     ]
    }
   ],
   "source": [
    "# Simple exception handling\n",
    "\n",
    "def exceptionFunc1() :\n",
    "    exceptionFunc2()\n",
    "\n",
    "def exceptionFunc2() :\n",
    "    i = int('abc')\n",
    "\n",
    "try : \n",
    "    exceptionFunc1()\n",
    "except Exception as e :\n",
    "    print(\"From exception block\", e)"
   ]
  },
  {
   "cell_type": "code",
   "execution_count": 152,
   "metadata": {},
   "outputs": [
    {
     "name": "stdout",
     "output_type": "stream",
     "text": [
      "Exception in user code:\n",
      "------------------------------------------------------------\n",
      "Traceback (most recent call last):\n",
      "  File \"<ipython-input-152-067d57a66a3b>\", line 10, in <module>\n",
      "    exceptionFunc1()\n",
      "  File \"<ipython-input-152-067d57a66a3b>\", line 4, in exceptionFunc1\n",
      "    exceptionFunc2()\n",
      "  File \"<ipython-input-152-067d57a66a3b>\", line 7, in exceptionFunc2\n",
      "    i = int('abc')\n",
      "ValueError: invalid literal for int() with base 10: 'abc'\n",
      "------------------------------------------------------------\n"
     ]
    }
   ],
   "source": [
    "# With stack trace\n",
    "import sys, traceback\n",
    "\n",
    "def exceptionFunc1() :\n",
    "    exceptionFunc2()\n",
    "\n",
    "def exceptionFunc2() :\n",
    "    i = int('abc')\n",
    "\n",
    "try :\n",
    "    exceptionFunc1()\n",
    "except Exception as e :\n",
    "    print(\"Exception in user code:\")\n",
    "    print(\"-\"*60)\n",
    "    traceback.print_exc(file=sys.stdout)\n",
    "    print(\"-\"*60)\n"
   ]
  },
  {
   "cell_type": "code",
   "execution_count": 241,
   "metadata": {},
   "outputs": [],
   "source": [
    "import os"
   ]
  },
  {
   "cell_type": "code",
   "execution_count": null,
   "metadata": {},
   "outputs": [],
   "source": [
    "# Checking for file.\n",
    "\n",
    "if not os.path.isfile(\"dummyfile.txt\") :\n",
    "    print(\"Error dummyfile.txt does not exist\")\n",
    "    \n",
    "# chekcing for folder\n",
    "if not os.path.isdirs(\"/hallmark\")\n",
    "    print(\"Error /hallmark does not exist\")\n",
    "\n",
    "# Splitting filename to path, filename prefix, extension\n",
    "fullname = \"/users/python/data.txt\"\n",
    "filenameext = os.path.basename(fullname)\n",
    "path = fullname.replace(filenameext, '')\n",
    "filename, ext = os.path.splitext(filenameext)"
   ]
  },
  {
   "cell_type": "code",
   "execution_count": 7,
   "metadata": {},
   "outputs": [],
   "source": [
    "\n",
    "# Writing to file\n",
    "lines = '''Over the course of my working life I have had the opportunity to use \n",
    "many programming concepts and technologies to do countless things. \n",
    "Some of these things involve relatively low value fruits of my labor, \n",
    "such as automating the error prone or mundane like report generation, task \n",
    "automation, and general data reformatting. Others have been much more valuable, \n",
    "such as developing data products, web applications, and data analysis and \n",
    "processing pipelines. One thing that is notable about nearly all of these \n",
    "projects is the need to simply open a file, parse its contents, \n",
    "and do something with it.\n",
    "\n",
    "However, what do you do when the file you are trying to consume is \n",
    "quite large? Say the file is several GB of data or larger? Again, \n",
    "this has been another frequent aspect of my programming career, \n",
    "which has primarily been spent in the BioTech sector where files, \n",
    "up to a TB in size, are quite common.\n",
    "\n",
    "The answer to this problem is to read in chunks of a file at a time, \n",
    "process it, then free it from memory so you can pull in and process \n",
    "another chunk until the whole massive file has been processed. \n",
    "While it is up to the programmer to determine a suitable chunk \n",
    "size, perhaps the most commonly used is simply a line of a file at a time.\n",
    "'''\n",
    "\n",
    "# Opening file and file modes, r, w, a, rb, wb\n",
    "f = open(\"dummyfile.txt\", \"w\")\n",
    "f.write(lines)\n",
    "f.close()\n"
   ]
  },
  {
   "cell_type": "code",
   "execution_count": 8,
   "metadata": {},
   "outputs": [
    {
     "name": "stdout",
     "output_type": "stream",
     "text": [
      "first Over the course of my working life I have had the opportunity to use \n",
      "first many programming concepts and technologies to do countless things. \n",
      "first Some of these things involve relatively low value fruits of my labor, \n",
      "first such as automating the error prone or mundane like report generation, task \n",
      "first automation, and general data reformatting. Others have been much more valuable, \n",
      "first such as developing data products, web applications, and data analysis and \n",
      "first processing pipelines. One thing that is notable about nearly all of these \n",
      "first projects is the need to simply open a file, parse its contents, \n",
      "first and do something with it.\n",
      "first \n",
      "first However, what do you do when the file you are trying to consume is \n",
      "first quite large? Say the file is several GB of data or larger? Again, \n",
      "first this has been another frequent aspect of my programming career, \n",
      "first which has primarily been spent in the BioTech sector where files, \n",
      "first up to a TB in size, are quite common.\n",
      "first \n",
      "first The answer to this problem is to read in chunks of a file at a time, \n",
      "first process it, then free it from memory so you can pull in and process \n",
      "first another chunk until the whole massive file has been processed. \n",
      "first While it is up to the programmer to determine a suitable chunk \n",
      "first size, perhaps the most commonly used is simply a line of a file at a time.\n"
     ]
    }
   ],
   "source": [
    "# Read all file contents at once\n",
    "f = open(\"dummyfile.txt\", \"r\")\n",
    "data = f.read()\n",
    "\n",
    "lines = data.splitlines()\n",
    "for line in lines : \n",
    "    print('first', line)\n",
    "f.close()\n"
   ]
  },
  {
   "cell_type": "code",
   "execution_count": 9,
   "metadata": {},
   "outputs": [
    {
     "name": "stdout",
     "output_type": "stream",
     "text": [
      "1 Over the course of my working life I have had the opportunity to use \n",
      "\n",
      "2 many programming concepts and technologies to do countless things. \n",
      "\n",
      "3 Some of these things involve relatively low value fruits of my labor, \n",
      "\n",
      "4 such as automating the error prone or mundane like report generation, task \n",
      "\n",
      "5 automation, and general data reformatting. Others have been much more valuable, \n",
      "\n",
      "6 such as developing data products, web applications, and data analysis and \n",
      "\n",
      "7 processing pipelines. One thing that is notable about nearly all of these \n",
      "\n",
      "8 projects is the need to simply open a file, parse its contents, \n",
      "\n",
      "9 and do something with it.\n",
      "\n",
      "10 \n",
      "\n",
      "11 However, what do you do when the file you are trying to consume is \n",
      "\n",
      "12 quite large? Say the file is several GB of data or larger? Again, \n",
      "\n",
      "13 this has been another frequent aspect of my programming career, \n",
      "\n",
      "14 which has primarily been spent in the BioTech sector where files, \n",
      "\n",
      "15 up to a TB in size, are quite common.\n",
      "\n",
      "16 \n",
      "\n",
      "17 The answer to this problem is to read in chunks of a file at a time, \n",
      "\n",
      "18 process it, then free it from memory so you can pull in and process \n",
      "\n",
      "19 another chunk until the whole massive file has been processed. \n",
      "\n",
      "20 While it is up to the programmer to determine a suitable chunk \n",
      "\n",
      "21 size, perhaps the most commonly used is simply a line of a file at a time.\n",
      "\n"
     ]
    }
   ],
   "source": [
    "# Read line by line\n",
    "f = open(\"dummyfile.txt\", \"r\")\n",
    "\n",
    "line = f.readline()\n",
    "count=0\n",
    "while line :\n",
    "    count+=1\n",
    "    print(count, line) # You need to remove newline at end of line.\n",
    "    line = f.readline()\n",
    "f.close()\n"
   ]
  },
  {
   "cell_type": "code",
   "execution_count": 10,
   "metadata": {},
   "outputs": [
    {
     "name": "stdout",
     "output_type": "stream",
     "text": [
      "0 Over the course of my working life I have had the opportunity to use \n",
      "\n",
      "1 many programming concepts and technologies to do countless things. \n",
      "\n",
      "2 Some of these things involve relatively low value fruits of my labor, \n",
      "\n",
      "3 such as automating the error prone or mundane like report generation, task \n",
      "\n",
      "4 automation, and general data reformatting. Others have been much more valuable, \n",
      "\n",
      "5 such as developing data products, web applications, and data analysis and \n",
      "\n",
      "6 processing pipelines. One thing that is notable about nearly all of these \n",
      "\n",
      "7 projects is the need to simply open a file, parse its contents, \n",
      "\n",
      "8 and do something with it.\n",
      "\n",
      "9 \n",
      "\n",
      "10 However, what do you do when the file you are trying to consume is \n",
      "\n",
      "11 quite large? Say the file is several GB of data or larger? Again, \n",
      "\n",
      "12 this has been another frequent aspect of my programming career, \n",
      "\n",
      "13 which has primarily been spent in the BioTech sector where files, \n",
      "\n",
      "14 up to a TB in size, are quite common.\n",
      "\n",
      "15 \n",
      "\n",
      "16 The answer to this problem is to read in chunks of a file at a time, \n",
      "\n",
      "17 process it, then free it from memory so you can pull in and process \n",
      "\n",
      "18 another chunk until the whole massive file has been processed. \n",
      "\n",
      "19 While it is up to the programmer to determine a suitable chunk \n",
      "\n",
      "20 size, perhaps the most commonly used is simply a line of a file at a time.\n",
      "\n"
     ]
    }
   ],
   "source": [
    "  \n",
    "# More elegant file read\n",
    "with open(\"dummyfile.txt\", \"r\") as f :\n",
    "    for count, line in enumerate(f) :\n",
    "        print(count, line)\n"
   ]
  },
  {
   "cell_type": "code",
   "execution_count": 13,
   "metadata": {},
   "outputs": [
    {
     "name": "stdout",
     "output_type": "stream",
     "text": [
      "line1\n",
      "line2\n",
      "line3\n",
      "\n"
     ]
    }
   ],
   "source": [
    "# Writing to files using write, writelines\n",
    "lines = [\"line1\", \"line2\", \"line3\"]\n",
    "with open(\"dummyfile1.txt\", \"w\") as f :\n",
    "    lines = [\"line1\", \"line2\", \"line3\"]\n",
    "    lines = [line + \"\\n\" for line in lines]\n",
    "    f.writelines(lines) # Does not add end of line\n",
    "\n",
    "f = open(\"dummyfile1.txt\", \"r\")\n",
    "data=f.read()\n",
    "print(data)\n",
    "f.close()\n"
   ]
  },
  {
   "cell_type": "markdown",
   "metadata": {},
   "source": [
    "# Function Programming"
   ]
  },
  {
   "cell_type": "code",
   "execution_count": 3,
   "metadata": {},
   "outputs": [
    {
     "name": "stdout",
     "output_type": "stream",
     "text": [
      "[1, 3, 5, 7, 9]\n"
     ]
    }
   ],
   "source": [
    "def odd(x) :\n",
    "    return x % 2 != 0\n",
    "\n",
    "print(list(filter(odd, range(10))))"
   ]
  },
  {
   "cell_type": "code",
   "execution_count": 4,
   "metadata": {},
   "outputs": [
    {
     "name": "stdout",
     "output_type": "stream",
     "text": [
      "[0, 1, 4, 9, 16, 25, 36, 49, 64, 81]\n"
     ]
    }
   ],
   "source": [
    "def square(x) :\n",
    "    return x**2\n",
    "\n",
    "print(list(map(square, range(10))))"
   ]
  },
  {
   "cell_type": "code",
   "execution_count": 5,
   "metadata": {},
   "outputs": [
    {
     "name": "stdout",
     "output_type": "stream",
     "text": [
      "45\n"
     ]
    }
   ],
   "source": [
    "from functools import reduce\n",
    "\n",
    "def mySum(x,y) :\n",
    "    return x + y\n",
    "\n",
    "print(reduce(mySum, range(10)))"
   ]
  },
  {
   "cell_type": "markdown",
   "metadata": {},
   "source": [
    "# Reading/Writing JSON From/To file.  "
   ]
  },
  {
   "cell_type": "code",
   "execution_count": 14,
   "metadata": {},
   "outputs": [],
   "source": [
    "import json"
   ]
  },
  {
   "cell_type": "code",
   "execution_count": 16,
   "metadata": {},
   "outputs": [
    {
     "name": "stdout",
     "output_type": "stream",
     "text": [
      "{'a': 1, 'b': 2, 'c': 3, 'd': 4, 'e': 5}\n"
     ]
    }
   ],
   "source": [
    "key = ['a', 'b', 'c', 'd', 'e']\n",
    "value = [1,2,3,4,5]\n",
    "d = dict(zip(key, value))\n",
    "print(d)"
   ]
  },
  {
   "cell_type": "code",
   "execution_count": 17,
   "metadata": {},
   "outputs": [
    {
     "name": "stdout",
     "output_type": "stream",
     "text": [
      "{\"a\": 1, \"b\": 2, \"c\": 3, \"d\": 4, \"e\": 5}\n"
     ]
    }
   ],
   "source": [
    "s = json.dumps(d)\n",
    "print(s)"
   ]
  },
  {
   "cell_type": "code",
   "execution_count": 18,
   "metadata": {},
   "outputs": [
    {
     "name": "stdout",
     "output_type": "stream",
     "text": [
      "{'a': 1, 'b': 2, 'c': 3, 'd': 4, 'e': 5}\n"
     ]
    }
   ],
   "source": [
    "s1 = json.loads(s)\n",
    "print(s1)"
   ]
  },
  {
   "cell_type": "code",
   "execution_count": 20,
   "metadata": {},
   "outputs": [
    {
     "name": "stdout",
     "output_type": "stream",
     "text": [
      "{'a': 1, 'b': 2, 'c': 3, 'd': 4, 'e': 5}\n"
     ]
    }
   ],
   "source": [
    "with open(\"jsondump.dat\", \"w\") as f:\n",
    "    json.dump(d, f)\n",
    "\n",
    "with open(\"jsondump.dat\", \"r\") as f:\n",
    "    dnew = json.load(f)\n",
    "print(dnew)    "
   ]
  },
  {
   "cell_type": "markdown",
   "metadata": {},
   "source": [
    "# Date times to Strings, Strings to Date times"
   ]
  },
  {
   "cell_type": "code",
   "execution_count": 34,
   "metadata": {},
   "outputs": [
    {
     "name": "stdout",
     "output_type": "stream",
     "text": [
      "2019-12-10 09:44:44.306208\n",
      "2019-12-10 09:35:11\n",
      "2019-12-10 09:35:11\n",
      "2019 12 10 9 35 11\n"
     ]
    }
   ],
   "source": [
    "# Python date times\n",
    "\n",
    "from datetime import datetime\n",
    "\n",
    "d = datetime.now()\n",
    "print(d)\n",
    "\n",
    "d = datetime.strptime(\"19-12-10 09:35:11\", \"%y-%m-%d %H:%M:%S\")\n",
    "print(d)\n",
    "\n",
    "print(datetime.strftime(d, \"%Y-%m-%d %H:%M:%S\"))\n",
    "\n",
    "print(d.year, d.month, d.day, d.hour, d.minute, d.second)"
   ]
  },
  {
   "cell_type": "markdown",
   "metadata": {},
   "source": [
    "# Date Time arithmetic"
   ]
  },
  {
   "cell_type": "code",
   "execution_count": 45,
   "metadata": {},
   "outputs": [
    {
     "name": "stdout",
     "output_type": "stream",
     "text": [
      "2019-03-30 00:00:00\n",
      "2019-03-24 00:00:00\n",
      "2019-03-30 23:00:00\n",
      "2019-02-28 00:00:00\n"
     ]
    }
   ],
   "source": [
    "#Date Arithmetic\n",
    "\n",
    "from datetime import datetime\n",
    "from datetime import timedelta\n",
    "\n",
    "d = datetime.strptime(\"2019-03-31\", \"%Y-%m-%d\")\n",
    "print(d - timedelta(days=1))\n",
    "print(d - timedelta(weeks=1))\n",
    "print(d - timedelta(hours=1))\n",
    "\n",
    "# Month -1 is not available in timedelta, for that you need to use relativedelta\n",
    "from dateutil.relativedelta import relativedelta\n",
    "td = relativedelta(months=1)\n",
    "print(d - td)\n",
    "\n",
    "# Substract a year\n",
    "td = relativedelta(years=1)\n",
    "print(d - td)\n"
   ]
  },
  {
   "cell_type": "markdown",
   "metadata": {},
   "source": [
    "# Numpy"
   ]
  },
  {
   "cell_type": "code",
   "execution_count": 70,
   "metadata": {},
   "outputs": [
    {
     "name": "stdout",
     "output_type": "stream",
     "text": [
      "[1. 2. 3. 4.] float64 (4,) 4\n",
      "[[1 2 3 4]\n",
      " [5 6 7 8]] int32 (2, 4) 8\n",
      "[1] 5 5\n",
      "2 :  [[1 2]\n",
      " [5 6]]\n"
     ]
    }
   ],
   "source": [
    "import numpy as np\n",
    "\n",
    "ia = np.array([1,2,3,4], dtype=\"float64\")\n",
    "print(ia, ia.dtype, ia.shape, ia.size)\n",
    "\n",
    "ia = np.array([[1,2,3,4],[5,6,7,8]])\n",
    "print(ia, ia.dtype, ia.shape, ia.size)\n",
    "\n",
    "# Indexing\n",
    "print(\"[1]\", ia[1, 0], ia[1][0])\n",
    "\n",
    "# Slicing\n",
    "print(\"2 : \", ia[:2, :2])"
   ]
  },
  {
   "cell_type": "code",
   "execution_count": 58,
   "metadata": {},
   "outputs": [
    {
     "name": "stdout",
     "output_type": "stream",
     "text": [
      "[1.  1.5 2.  2.5 3.  3.5 4.  4.5 5.  5.5 6.  6.5 7.  7.5 8.  8.5 9.  9.5]\n"
     ]
    }
   ],
   "source": [
    "# Numpy data generation, excluding end. params : start, end, step similar to range function\n",
    "a = np.arange(1,10,0.5)\n",
    "print(a)"
   ]
  },
  {
   "cell_type": "code",
   "execution_count": 72,
   "metadata": {},
   "outputs": [
    {
     "name": "stdout",
     "output_type": "stream",
     "text": [
      "[ 1.    3.25  5.5   7.75 10.  ]\n"
     ]
    }
   ],
   "source": [
    "# Numpy data generation using linspace, start, stop inclusive. params: start, stop, # of numbers to generate\n",
    "a = np.linspace(1,10, 5)\n",
    "print(a)"
   ]
  },
  {
   "cell_type": "code",
   "execution_count": 73,
   "metadata": {},
   "outputs": [
    {
     "name": "stdout",
     "output_type": "stream",
     "text": [
      "[[0. 0. 0. 0.]\n",
      " [0. 0. 0. 0.]\n",
      " [0. 0. 0. 0.]\n",
      " [0. 0. 0. 0.]]\n"
     ]
    }
   ],
   "source": [
    "l = np.zeros((4,4))\n",
    "print(l)"
   ]
  },
  {
   "cell_type": "code",
   "execution_count": 80,
   "metadata": {},
   "outputs": [
    {
     "name": "stdout",
     "output_type": "stream",
     "text": [
      "[[10. 10. 10. 10.]\n",
      " [10. 10. 10. 10.]\n",
      " [10. 10. 10. 10.]\n",
      " [10. 10. 10. 10.]]\n",
      "[1, 2, 1, 2, 1, 2, 1, 2, 1, 2, 1, 2, 1, 2, 1, 2, 1, 2, 1, 2]\n"
     ]
    }
   ],
   "source": [
    "l = np.ones((4,4))\n",
    "print(l*10)\n",
    "\n",
    "# * on regular lists behaves differently\n",
    "l = [1,2]\n",
    "print(l*10)"
   ]
  },
  {
   "cell_type": "code",
   "execution_count": 76,
   "metadata": {},
   "outputs": [
    {
     "name": "stdout",
     "output_type": "stream",
     "text": [
      "[[1 0 0 0]\n",
      " [0 1 0 0]\n",
      " [0 0 1 0]\n",
      " [0 0 0 1]]\n"
     ]
    }
   ],
   "source": [
    "l = np.eye((4), dtype='int')\n",
    "print(l)"
   ]
  },
  {
   "cell_type": "code",
   "execution_count": 244,
   "metadata": {},
   "outputs": [
    {
     "name": "stdout",
     "output_type": "stream",
     "text": [
      "random.rand :  [0.54340494 0.27836939 0.42451759 0.84477613 0.00471886] 0.41915738122895424 0.0776396120646683\n",
      "random.randn :  [ 0.35467445 -0.78606433 -0.2318722   0.20797568  0.93580797] 0.09610431480950372 0.3340532117201781\n",
      "randon.randint : \n",
      " [[10 19]\n",
      " [16 12]]\n"
     ]
    }
   ],
   "source": [
    "np.random.seed(100)\n",
    "\n",
    "# Generate 5 random numbers between 0 and 1\n",
    "x = np.random.rand(5)\n",
    "print(\"random.rand : \", x, x.mean(), x.var())\n",
    "\n",
    "# Generate 5 floating point numbers from Standard normal distribution with mean=0, var=1\n",
    "x = np.random.randn(5)\n",
    "print(\"random.randn : \", x, x.mean(), x.var())\n",
    "\n",
    "# Generate (2,2) random integers using digits between 10 and 20.\n",
    "x = np.random.randint(10,20,(2,2))\n",
    "print(\"randon.randint : \\n\", x)"
   ]
  },
  {
   "cell_type": "code",
   "execution_count": 119,
   "metadata": {},
   "outputs": [
    {
     "name": "stdout",
     "output_type": "stream",
     "text": [
      "[6.01726434 5.28837742 4.66091457 5.52736913 4.62569712 5.4770923\n",
      " 3.57023734 5.40770652 4.17171961 5.42345728] \n",
      "mean :  5.016983562852885 0.4951731068210067 0.7417495135908279\n"
     ]
    }
   ],
   "source": [
    "import statistics\n",
    "\n",
    "# Generate 10 floating point numbers from normal distribution with mean=5, std=1\n",
    "x = np.random.normal(loc=5, scale=1, size=10)\n",
    "print(x, \"\\nmean : \", x.mean(), x.var(), statistics.stdev(x))"
   ]
  },
  {
   "cell_type": "code",
   "execution_count": 123,
   "metadata": {},
   "outputs": [
    {
     "name": "stdout",
     "output_type": "stream",
     "text": [
      "51\n",
      "[93 15 72 61 21 83 87 75 75 88]\n"
     ]
    }
   ],
   "source": [
    "np.random.seed(42)\n",
    "print(np.random.randint(100)) # Genrate a random int under 100\n",
    "print(np.random.randint(1,100,10)) # Generate 10 random ints between 1 and 100"
   ]
  },
  {
   "cell_type": "code",
   "execution_count": 149,
   "metadata": {},
   "outputs": [
    {
     "name": "stdout",
     "output_type": "stream",
     "text": [
      "[ 2  6 11 16 16  1  9  6 16  3  4 19]\n",
      "[[ 2  6 11]\n",
      " [16 16  1]\n",
      " [ 9  6 16]\n",
      " [ 3  4 19]]\n",
      "max :  19\n",
      "sum :  109\n",
      "min :  1\n",
      "max :  [16 16 19] [2 0 2 2]\n",
      "sum :  [30 32 47] [2 0 2 2]\n",
      "min :  [2 4 1] [2 0 2 2]\n",
      "max :  [11 16 16 19] [2 0 2 2]\n",
      "sum :  [19 33 31 26] [2 0 2 2]\n",
      "min :  [2 1 6 3] [2 0 2 2]\n"
     ]
    }
   ],
   "source": [
    "# Numpy Reshape\n",
    "na = np.random.randint(1,20,12)\n",
    "print(na)\n",
    "na = na.reshape((4,3))\n",
    "print(na)\n",
    "\n",
    "# Aggregate across the array \n",
    "print(\"max : \", na.max())\n",
    "print(\"sum : \", na.sum())\n",
    "print(\"min : \", na.min())\n",
    "\n",
    "# Aggregate across axis=0, along columns, returns one value per column\n",
    "print(\"max : \", na.max(axis=0), na.argmax(axis=1))\n",
    "print(\"sum : \", na.sum(axis=0), na.argmax(axis=1))\n",
    "print(\"min : \", na.min(axis=0), na.argmax(axis=1))\n",
    "\n",
    "# Aggregate across axis=1, along row, returns one value per row\n",
    "print(\"max : \", na.max(axis=1), na.argmax(axis=1))\n",
    "print(\"sum : \", na.sum(axis=1), na.argmax(axis=1))\n",
    "print(\"min : \", na.min(axis=1), na.argmax(axis=1))"
   ]
  },
  {
   "cell_type": "code",
   "execution_count": 168,
   "metadata": {},
   "outputs": [
    {
     "name": "stdout",
     "output_type": "stream",
     "text": [
      "[[ 0  1  2  3  4]\n",
      " [ 5  6  7  8  9]\n",
      " [10 11 12 13 14]\n",
      " [15 16 17 18 19]]\n",
      "\n",
      "After Shuffle : \n",
      " [[10 11 12 13 14]\n",
      " [ 5  6  7  8  9]\n",
      " [15 16 17 18 19]\n",
      " [ 0  1  2  3  4]]\n"
     ]
    }
   ],
   "source": [
    "a = np.arange(20).reshape((4,5))\n",
    "print(a)\n",
    "np.random.shuffle(a) # Shuffles numpy array in place\n",
    "print(\"\\nAfter Shuffle : \\n\", a)"
   ]
  },
  {
   "cell_type": "code",
   "execution_count": 173,
   "metadata": {},
   "outputs": [
    {
     "name": "stdout",
     "output_type": "stream",
     "text": [
      "[[100 100 100 100 100]\n",
      " [100 100 100 100 100]\n",
      " [ 15  16  17  18  19]\n",
      " [  0   1   2   3   4]]\n",
      "[[100 100 100 100 100]\n",
      " [110 110 110 110 110]\n",
      " [ 15  16  17  18  19]\n",
      " [  0   1   2   3   4]]\n",
      "[[100 100 100 100 100]\n",
      " [100 100 100 100 100]\n",
      " [ 15  16  17  18  19]\n",
      " [  0   1   2   3   4]]\n"
     ]
    }
   ],
   "source": [
    "print(a)\n",
    "a[1] = a[1]+10\n",
    "print(a)\n",
    "\n",
    "# Bulk Assignment\n",
    "a[:2] = 100 \n",
    "print(a)\n"
   ]
  },
  {
   "cell_type": "markdown",
   "metadata": {},
   "source": [
    "# Pandas - PANel DAta"
   ]
  },
  {
   "cell_type": "markdown",
   "metadata": {},
   "source": [
    "## Pandas - Series"
   ]
  },
  {
   "cell_type": "code",
   "execution_count": 176,
   "metadata": {},
   "outputs": [
    {
     "name": "stdout",
     "output_type": "stream",
     "text": [
      "a    John\n",
      "b    Jeff\n",
      "c     Sue\n",
      "d     Ann\n",
      "dtype: object\n"
     ]
    }
   ],
   "source": [
    "import pandas as pd\n",
    "\n",
    "names = ['John', 'Jeff', 'Sue', 'Ann']\n",
    "s =  pd.Series(data=names, index=['a', 'b', 'c', 'd'])\n",
    "print(s)"
   ]
  },
  {
   "cell_type": "code",
   "execution_count": 178,
   "metadata": {},
   "outputs": [
    {
     "data": {
      "text/plain": [
       "a    John\n",
       "b    Jeff\n",
       "c     Sue\n",
       "d     Ann\n",
       "dtype: object"
      ]
     },
     "execution_count": 178,
     "metadata": {},
     "output_type": "execute_result"
    }
   ],
   "source": [
    "s1 = s.copy()"
   ]
  },
  {
   "cell_type": "code",
   "execution_count": 186,
   "metadata": {},
   "outputs": [
    {
     "name": "stderr",
     "output_type": "stream",
     "text": [
      "C:\\Software\\Anaconda3\\lib\\site-packages\\ipykernel_launcher.py:1: FutureWarning: set_value is deprecated and will be removed in a future release. Please use .at[] or .iat[] accessors instead\n",
      "  \"\"\"Entry point for launching an IPython kernel.\n"
     ]
    },
    {
     "data": {
      "text/plain": [
       "a    John\n",
       "b    Jeff\n",
       "c     Sue\n",
       "d     Ann\n",
       "f     Joe\n",
       "dtype: object"
      ]
     },
     "execution_count": 186,
     "metadata": {},
     "output_type": "execute_result"
    }
   ],
   "source": [
    "s1.set_value('f', 'Joe')"
   ]
  },
  {
   "cell_type": "code",
   "execution_count": 192,
   "metadata": {},
   "outputs": [
    {
     "data": {
      "text/plain": [
       "b     Jeff\n",
       "c      Sue\n",
       "d      Ann\n",
       "e    Susan\n",
       "dtype: object"
      ]
     },
     "execution_count": 192,
     "metadata": {},
     "output_type": "execute_result"
    }
   ],
   "source": [
    "s['b':]   # Slicing or single row selection, single set of brackets"
   ]
  },
  {
   "cell_type": "code",
   "execution_count": 195,
   "metadata": {},
   "outputs": [
    {
     "data": {
      "text/plain": [
       "a    John\n",
       "b    Jeff\n",
       "dtype: object"
      ]
     },
     "execution_count": 195,
     "metadata": {},
     "output_type": "execute_result"
    }
   ],
   "source": [
    "s[['a', 'b']] # Multiple row selection, double square brackets"
   ]
  },
  {
   "cell_type": "markdown",
   "metadata": {},
   "source": [
    "## Pandas - Data Frames\n",
    "### Multiple Series with same index"
   ]
  },
  {
   "cell_type": "code",
   "execution_count": 198,
   "metadata": {},
   "outputs": [
    {
     "name": "stdout",
     "output_type": "stream",
     "text": [
      "[[ 2.70684984  0.62813271  0.90796945  0.50382575]\n",
      " [ 0.65111795 -0.31931804 -0.84807698  0.60596535]\n",
      " [-2.01816824  0.74012206  0.52881349 -0.58900053]\n",
      " [ 0.18869531 -0.75887206 -0.93323722  0.95505651]\n",
      " [ 0.19079432  1.97875732  2.60596728  0.68350889]]\n"
     ]
    }
   ],
   "source": [
    "from numpy.random import randn\n",
    "np.random.seed(101)\n",
    "rand_mat = randn(5,4)\n",
    "print(rand_mat)\n"
   ]
  },
  {
   "cell_type": "code",
   "execution_count": 201,
   "metadata": {},
   "outputs": [
    {
     "name": "stdout",
     "output_type": "stream",
     "text": [
      "          0         1         2         3\n",
      "0  2.706850  0.628133  0.907969  0.503826\n",
      "1  0.651118 -0.319318 -0.848077  0.605965\n",
      "2 -2.018168  0.740122  0.528813 -0.589001\n",
      "3  0.188695 -0.758872 -0.933237  0.955057\n",
      "4  0.190794  1.978757  2.605967  0.683509\n"
     ]
    }
   ],
   "source": [
    "df = pd.DataFrame(data=rand_mat)\n",
    "print(df)"
   ]
  },
  {
   "cell_type": "code",
   "execution_count": 223,
   "metadata": {},
   "outputs": [
    {
     "name": "stdout",
     "output_type": "stream",
     "text": [
      "          w         x         y         z\n",
      "a  2.706850  0.628133  0.907969  0.503826\n",
      "b  0.651118 -0.319318 -0.848077  0.605965\n",
      "c -2.018168  0.740122  0.528813 -0.589001\n",
      "d  0.188695 -0.758872 -0.933237  0.955057\n",
      "e  0.190794  1.978757  2.605967  0.683509\n",
      "          w         x         y         z new_index\n",
      "a  2.706850  0.628133  0.907969  0.503826        aa\n",
      "b  0.651118 -0.319318 -0.848077  0.605965        bb\n",
      "c -2.018168  0.740122  0.528813 -0.589001        cc\n",
      "d  0.188695 -0.758872 -0.933237  0.955057        dd\n",
      "e  0.190794  1.978757  2.605967  0.683509        ee\n",
      "  index         w         x         y         z new_index\n",
      "0     a  2.706850  0.628133  0.907969  0.503826        aa\n",
      "1     b  0.651118 -0.319318 -0.848077  0.605965        bb\n",
      "2     c -2.018168  0.740122  0.528813 -0.589001        cc\n",
      "3     d  0.188695 -0.758872 -0.933237  0.955057        dd\n",
      "4     e  0.190794  1.978757  2.605967  0.683509        ee\n",
      "          index         w         x         y         z\n",
      "new_index                                              \n",
      "aa            a  2.706850  0.628133  0.907969  0.503826\n",
      "bb            b  0.651118 -0.319318 -0.848077  0.605965\n",
      "cc            c -2.018168  0.740122  0.528813 -0.589001\n",
      "dd            d  0.188695 -0.758872 -0.933237  0.955057\n",
      "ee            e  0.190794  1.978757  2.605967  0.683509\n"
     ]
    }
   ],
   "source": [
    "df = pd.DataFrame(data=rand_mat, index='a b c d e'.split(), columns='w x y z'.split())\n",
    "print(df)\n",
    "df['new_index'] = ['aa', 'bb', 'cc', 'dd', 'ee']\n",
    "print(df)\n",
    "df.reset_index(inplace=True)\n",
    "print(df)\n",
    "df.set_index('new_index', inplace=True)\n",
    "print(df)\n"
   ]
  },
  {
   "cell_type": "code",
   "execution_count": 234,
   "metadata": {},
   "outputs": [
    {
     "name": "stdout",
     "output_type": "stream",
     "text": [
      "new_index\n",
      "aa    a\n",
      "bb    b\n",
      "cc    c\n",
      "dd    d\n",
      "ee    e\n",
      "Name: index, dtype: object\n",
      "                  w         x\n",
      "new_index                    \n",
      "aa         2.706850  0.628133\n",
      "bb         0.651118 -0.319318\n",
      "cc        -2.018168  0.740122\n",
      "dd         0.188695 -0.758872\n",
      "ee         0.190794  1.978757\n",
      "                  x         y         z\n",
      "new_index                              \n",
      "cc         0.740122  0.528813 -0.589001\n",
      "dd        -0.758872 -0.933237  0.955057\n",
      "ee         1.978757  2.605967  0.683509\n",
      "                  w         x\n",
      "new_index                    \n",
      "aa         2.706850  0.628133\n",
      "bb         0.651118 -0.319318\n"
     ]
    }
   ],
   "source": [
    "# To access a column\n",
    "print(df['index'])\n",
    "\n",
    "# To access a set of columns\n",
    "print(df[['w', 'x']])\n",
    "\n",
    "# To Access using indexes\n",
    "print(df.iloc[2:, 2:])\n",
    "\n",
    "# To Access using index, column names\n",
    "print(df.loc[['aa', 'bb'],['w', 'x']])"
   ]
  },
  {
   "cell_type": "code",
   "execution_count": 221,
   "metadata": {},
   "outputs": [
    {
     "data": {
      "text/plain": [
       "<matplotlib.axes._subplots.AxesSubplot at 0x23443ec86c8>"
      ]
     },
     "execution_count": 221,
     "metadata": {},
     "output_type": "execute_result"
    },
    {
     "data": {
      "image/png": "[encoded data removed]",
      "text/plain": [
       "<Figure size 864x576 with 1 Axes>"
      ]
     },
     "metadata": {
      "needs_background": "light"
     },
     "output_type": "display_data"
    }
   ],
   "source": [
    "f = open(\"dataForPandas.csv\", \"w\")\n",
    "f.write(\"\"\"TranDate,Item,Amount\n",
    "2019-10-01,1100\n",
    "2019-10-02,1200\n",
    "2019-10-03,1150\n",
    "2019-10-04,1200\n",
    "2019-10-05,1175\n",
    "2019-10-06,1240\n",
    "\"\"\")\n",
    "f.close()\n",
    "df = pd.read_csv('dataForPandas.csv',index_col='TranDate',parse_dates=True)\n",
    "df.index.freq = 'D'\n",
    "%matplotlib inline\n",
    "df.plot(figsize=(12,8))\n"
   ]
  },
  {
   "cell_type": "code",
   "execution_count": null,
   "metadata": {},
   "outputs": [],
   "source": []
  }
 ],
 "metadata": {
  "kernelspec": {
   "display_name": "Python 3",
   "language": "python",
   "name": "python3"
  },
  "language_info": {
   "codemirror_mode": {
    "name": "ipython",
    "version": 3
   },
   "file_extension": ".py",
   "mimetype": "text/x-python",
   "name": "python",
   "nbconvert_exporter": "python",
   "pygments_lexer": "ipython3",
   "version": "3.7.4"
  }
 },
 "nbformat": 4,
 "nbformat_minor": 2
}
